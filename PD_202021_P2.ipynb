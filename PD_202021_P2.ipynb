{
  "nbformat": 4,
  "nbformat_minor": 0,
  "metadata": {
    "kernelspec": {
      "display_name": "Python 3",
      "language": "python",
      "name": "python3"
    },
    "language_info": {
      "codemirror_mode": {
        "name": "ipython",
        "version": 3
      },
      "file_extension": ".py",
      "mimetype": "text/x-python",
      "name": "python",
      "nbconvert_exporter": "python",
      "pygments_lexer": "ipython3",
      "version": "3.8.5"
    },
    "colab": {
      "name": "PD_proj2_test.ipynb",
      "provenance": [],
      "collapsed_sections": [],
      "include_colab_link": true
    }
  },
  "cells": [
    {
      "cell_type": "markdown",
      "metadata": {
        "id": "view-in-github",
        "colab_type": "text"
      },
      "source": [
        "<a href=\"https://colab.research.google.com/github/iamemc/PD_02/blob/EMC/PD_202021_P2.ipynb\" target=\"_parent\"><img src=\"https://colab.research.google.com/assets/colab-badge.svg\" alt=\"Open In Colab\"/></a>"
      ]
    },
    {
      "cell_type": "markdown",
      "metadata": {
        "id": "bcgwnRfLgHaf"
      },
      "source": [
        "# Data Mining / Prospecção de Dados\n",
        "\n",
        "## Diogo F. Soares and Sara C. Madeira, 2020/21\n",
        "\n",
        "# Project 2 - Clustering"
      ]
    },
    {
      "cell_type": "markdown",
      "metadata": {
        "id": "AjLy5zShgHat"
      },
      "source": [
        "## Logistics \n",
        "\n",
        "**_Read Carefully_**\n",
        "\n",
        "**Students should work in teams of 2 or 3 people**. \n",
        "\n",
        "Individual projects might be allowed (with valid justification), but will not have better grades for this reason. \n",
        "\n",
        "The quality of the project will dictate its grade, not the number of people working.\n",
        "\n",
        "**The project's solution should be uploaded in Moodle before the end of `April, 18th (23:59)`.** \n",
        "\n",
        "Students should **upload a `.zip` file** containing all the files necessary for project evaluation. \n",
        "Groups should be registered in [Moodle](https://moodle.ciencias.ulisboa.pt/mod/groupselect/view.php?id=139096) and the zip file should be identified as `PDnn.zip` where `nn` is the number of your group.\n",
        "\n",
        "**It is mandatory to produce a Jupyter notebook containing code and text/images/tables/etc describing the solution and the results. Projects not delivered in this format will not be graded. You can use `PD_202021_P2.ipynb`as template. In your `.zip` folder you should also include an HTML version of your notebook with all the outputs** (File > Download as > HTML).\n",
        "\n",
        "**Decisions should be justified and results should be critically discussed.** \n",
        "\n",
        "_Project solutions containing only code and outputs without discussions will achieve a maximum grade 10 out of 20._"
      ]
    },
    {
      "cell_type": "markdown",
      "metadata": {
        "id": "gPNMHG2UgHau"
      },
      "source": [
        "## Dataset and Tools\n",
        "\n",
        "In this project you should use [Python 3](https://www.python.org), [Jupyter Notebook](http://jupyter.org) and **[Scikit-learn](http://scikit-learn.org/stable/)**.\n",
        "\n",
        "The dataset to be analysed is **`medulloblastoma_genes.csv`**. It includes 76 samples of medulloblastoma (MB) with respective expression levels of 54.675 genes measured in children with ages between 3 and 16 years. Medulloblastoma is a malignant childhood brain tumour comprising four discrete subgroups. \n",
        "\n",
        "In this project you will consider the labels of the samples included in the `labels.csv` file where samples are labelled as MB-CL or Other. In this case, we have 51 samples of classic medulloblastoma (MB-CL) and 25 other types (namely: 6 desmoplastic nodular, 17 anaplastic and 2 medullomyoblastoma).\n",
        "\n",
        "In `medulloblastoma_genes.csv` each line represents a sample and each column represents a gene.\n",
        "\n",
        "\n",
        "**The goal is to cluster samples and (ideally) find \"MB-CL\" groups and \"Other MB\" groups.** "
      ]
    },
    {
      "cell_type": "markdown",
      "metadata": {
        "id": "-ou1gN7mgHaw"
      },
      "source": [
        "## Team Identification\n",
        "\n",
        "**GROUP NNN**\n",
        "\n",
        "Students:\n",
        "\n",
        "* Student 1 - n_student1\n",
        "* Student 2 - n_student2\n",
        "* Student 3 - n_student3"
      ]
    },
    {
      "cell_type": "markdown",
      "metadata": {
        "id": "w5cgX4OKgHax"
      },
      "source": [
        "## 1. Load and Preprocess Dataset"
      ]
    },
    {
      "cell_type": "markdown",
      "metadata": {
        "id": "5Jdu8-3GgHay"
      },
      "source": [
        "At the end of this step you should have:\n",
        "* a 76 rows × 54675 columns matrix, **X**, containing the values of the 54675 features for each of the 76 samples.\n",
        "* a vector, **y**, with the 76 type of medulloblastoma, which you can use later to evaluate clustering quality."
      ]
    },
    {
      "cell_type": "code",
      "metadata": {
        "colab": {
          "base_uri": "https://localhost:8080/"
        },
        "id": "M_6KhFQ9gHaz",
        "outputId": "2777a2ac-e767-4c7a-e40c-a8b6a0cc03ef"
      },
      "source": [
        "# Write code in cells like this ...\n",
        "import pandas as pd\n",
        "from sklearn.model_selection import train_test_split\n",
        "df=pd.read_csv('/content/medulloblastoma_genes.csv')\n",
        "df2=pd.read_csv('/content/labels.csv')\n",
        "df.head(20)\n",
        "#print(df2.shape)#\n",
        "\n",
        "X, y = df.iloc[:, 1:].values, df2.iloc[:, 1].values\n",
        "\n",
        "X_train, X_test, y_train, y_test = train_test_split(X, y, \n",
        "                     test_size=0.3, \n",
        "                     random_state=0, \n",
        "                     stratify=y)\n",
        "#feature values\n",
        "print(X_train)\n",
        "print(X_test)\n",
        "#target values\n",
        "print(y_train)\n",
        "print(y_test)\n",
        "\n"
      ],
      "execution_count": 4,
      "outputs": [
        {
          "output_type": "stream",
          "text": [
            "[[7.50064 6.38873 4.13677 ... 3.49953 3.82864 3.23868]\n",
            " [6.89942 6.59687 4.8339  ... 3.41115 4.29865 3.16125]\n",
            " [7.93787 6.50772 4.58802 ... 3.43721 4.23844 3.21084]\n",
            " ...\n",
            " [7.80665 6.19154 5.24439 ... 3.4012  4.20916 4.40915]\n",
            " [7.43296 5.92985 3.6055  ... 3.27714 4.5326  3.81331]\n",
            " [7.56076 6.79593 5.18347 ... 3.30322 3.81991 3.3499 ]]\n",
            "[[7.28592 6.53161 4.42245 ... 3.92986 4.2017  3.24259]\n",
            " [7.75074 6.54161 4.16356 ... 3.65584 3.77963 3.21084]\n",
            " [7.3308  5.76676 4.06732 ... 3.31782 4.78415 3.12236]\n",
            " ...\n",
            " [6.64144 6.55365 4.30676 ... 3.80666 3.89792 3.19048]\n",
            " [7.3025  6.35819 4.15418 ... 3.88568 4.4055  3.14415]\n",
            " [7.8252  6.28301 4.76303 ... 3.25424 3.90399 3.70868]]\n",
            "['MB-CL' 'Other' 'MB-CL' 'MB-CL' 'Other' 'MB-CL' 'Other' 'MB-CL' 'MB-CL'\n",
            " 'Other' 'Other' 'MB-CL' 'MB-CL' 'MB-CL' 'MB-CL' 'MB-CL' 'MB-CL' 'Other'\n",
            " 'MB-CL' 'MB-CL' 'MB-CL' 'Other' 'MB-CL' 'MB-CL' 'MB-CL' 'MB-CL' 'Other'\n",
            " 'Other' 'MB-CL' 'MB-CL' 'MB-CL' 'MB-CL' 'MB-CL' 'MB-CL' 'Other' 'MB-CL'\n",
            " 'Other' 'Other' 'MB-CL' 'Other' 'Other' 'Other' 'MB-CL' 'Other' 'MB-CL'\n",
            " 'MB-CL' 'MB-CL' 'MB-CL' 'Other' 'MB-CL' 'MB-CL' 'MB-CL' 'MB-CL']\n",
            "['MB-CL' 'Other' 'MB-CL' 'Other' 'MB-CL' 'MB-CL' 'MB-CL' 'MB-CL' 'Other'\n",
            " 'MB-CL' 'MB-CL' 'MB-CL' 'Other' 'MB-CL' 'MB-CL' 'MB-CL' 'MB-CL' 'Other'\n",
            " 'Other' 'Other' 'MB-CL' 'Other' 'MB-CL']\n"
          ],
          "name": "stdout"
        }
      ]
    },
    {
      "cell_type": "code",
      "metadata": {
        "colab": {
          "base_uri": "https://localhost:8080/"
        },
        "id": "am-UFqnqj-Uv",
        "outputId": "750b9846-b218-4b0a-c0ca-49df8dcf364e"
      },
      "source": [
        "##variancia select\n",
        "from sklearn.feature_selection import VarianceThreshold\n",
        "\n",
        "sel = VarianceThreshold(threshold=(.8))\n",
        "sel.fit_transform(X_train).shape"
      ],
      "execution_count": 5,
      "outputs": [
        {
          "output_type": "execute_result",
          "data": {
            "text/plain": [
              "(53, 2925)"
            ]
          },
          "metadata": {
            "tags": []
          },
          "execution_count": 5
        }
      ]
    },
    {
      "cell_type": "code",
      "metadata": {
        "colab": {
          "base_uri": "https://localhost:8080/"
        },
        "id": "_KYsljX6o70H",
        "outputId": "b3f95877-e959-4657-9ecd-48fb03c83851"
      },
      "source": [
        "feature_names"
      ],
      "execution_count": null,
      "outputs": [
        {
          "output_type": "execute_result",
          "data": {
            "text/plain": [
              "Index(['1007_s_at', '1053_at', '117_at', '121_at', '1255_g_at', '1294_at',\n",
              "       '1316_at', '1320_at', '1405_i_at', '1431_at',\n",
              "       ...\n",
              "       'AFFX-r2-Ec-bioD-3_at', 'AFFX-r2-Ec-bioD-5_at', 'AFFX-r2-P1-cre-3_at',\n",
              "       'AFFX-r2-P1-cre-5_at', 'AFFX-ThrX-3_at', 'AFFX-ThrX-5_at',\n",
              "       'AFFX-ThrX-M_at', 'AFFX-TrpnX-3_at', 'AFFX-TrpnX-5_at',\n",
              "       'AFFX-TrpnX-M_at'],\n",
              "      dtype='object', length=54675)"
            ]
          },
          "metadata": {
            "tags": []
          },
          "execution_count": 22
        }
      ]
    },
    {
      "cell_type": "code",
      "metadata": {
        "colab": {
          "base_uri": "https://localhost:8080/"
        },
        "id": "plV7NoaT7Plt",
        "outputId": "59a88553-405a-4fa7-ed71-4c9e2dadbac7"
      },
      "source": [
        "\n",
        "#standarizar os values das features\n",
        "from sklearn.preprocessing import StandardScaler\n",
        "\n",
        "stdsc = StandardScaler()\n",
        "X_train_std = stdsc.fit_transform(X_train)\n",
        "X_test_std = stdsc.transform(X_test)\n",
        "print(X_train_std)\n",
        "print(X_test_std)\n",
        "\n",
        "#pca\n",
        "from sklearn.decomposition import PCA\n",
        "pca = PCA(n_components=3)\n",
        "pca.fit(X_train_std)\n",
        "\n",
        "print(\"The components matrix\")\n",
        "print(pca.components_)\n",
        "print(\"\\nExplained variances:\", pca.explained_variance_)\n",
        "print(\"\\nRatio of explained variance\",pca.explained_variance_/sum(pca.explained_variance_))\n",
        "#this last line could be replaced by the following but the undelying principle would be lost\n",
        "#print(\"\\nRatio of explained variance\",pca.explained_variance_ratio_)\n"
      ],
      "execution_count": null,
      "outputs": [
        {
          "output_type": "stream",
          "text": [
            "[[ 0.36181372 -0.11648765 -0.696074   ... -0.25165312 -0.13112393\n",
            "  -0.4801687 ]\n",
            " [-1.17008518  0.51938277  0.32371536 ... -0.53974608  1.12774675\n",
            "  -0.68878005]\n",
            " [ 1.47586873  0.24702835 -0.03596764 ... -0.4547981   0.96648081\n",
            "  -0.55517503]\n",
            " ...\n",
            " [ 1.14152228 -0.71890567  0.92419638 ... -0.57218018  0.88805751\n",
            "   2.67330317]\n",
            " [ 0.18936616 -1.51837203 -1.47323678 ... -0.97657951  1.75435638\n",
            "   1.06799532]\n",
            " [ 0.51499851  1.12751366  0.83508019 ... -0.89156633 -0.15450628\n",
            "  -0.18052058]]\n",
            "[[-0.18528939  0.32001262 -0.27816999 ...  1.15109688  0.86807671\n",
            "  -0.46963441]\n",
            " [ 0.99906449  0.35056275 -0.65688452 ...  0.25787178 -0.26239188\n",
            "  -0.55517503]\n",
            " [-0.07093587 -2.0166141  -0.79766821 ... -0.8439746   2.4281057\n",
            "  -0.79355721]\n",
            " ...\n",
            " [-1.82741407  0.3873451  -0.4474059  ...  0.74950089  0.05443502\n",
            "  -0.6100288 ]\n",
            " [-0.14304382 -0.20978775 -0.67060596 ...  1.00708299  1.41393285\n",
            "  -0.73485075]\n",
            " [ 1.18878738 -0.43946363  0.22004392 ... -1.05122681  0.07069285\n",
            "   0.78610192]]\n",
            "The components matrix\n",
            "[[ 0.00399187 -0.00426221 -0.00240919 ... -0.00068158  0.00245441\n",
            "   0.00739432]\n",
            " [ 0.00085073  0.00051202  0.00606216 ... -0.00079288  0.00264589\n",
            "   0.00385189]\n",
            " [ 0.00783428 -0.00110502  0.00338465 ... -0.00555008 -0.00164889\n",
            "  -0.00106907]]\n",
            "\n",
            "Explained variances: [5236.30830408 4337.12342458 2798.48485593]\n",
            "\n",
            "Ratio of explained variance [0.42324148 0.35056197 0.22619655]\n"
          ],
          "name": "stdout"
        }
      ]
    },
    {
      "cell_type": "code",
      "metadata": {
        "id": "lxOhjc6YASuB"
      },
      "source": [
        "from sklearn.linear_model import LinearRegression\n",
        "from sklearn.metrics import mean_squared_error, r2_score\n",
        "\n",
        "y_train_bin = []\n",
        "y_test_bin = []\n",
        "for i in y_train:\n",
        "  if i == 'MB-CL':\n",
        "    y_train_bin.append(1)\n",
        "  if i == 'Other':\n",
        "    y_train_bin.append(0)\n",
        "\n",
        "for i in y_test:\n",
        "  if i == 'MB-CL':\n",
        "    y_test_bin.append(1)\n",
        "  if i == 'Other':\n",
        "    y_test_bin.append(0)\n",
        "\n",
        "X_train_dr = pca.transform(X_train_std)\n",
        "\n",
        "X_test_dr  = pca.transform(X_test_std)\n",
        "\n"
      ],
      "execution_count": null,
      "outputs": []
    },
    {
      "cell_type": "code",
      "metadata": {
        "id": "BWX9Ly4NRv6W"
      },
      "source": [
        "X_train_dr = pca.transform(X_train_std)\n",
        "print(X_train_dr)"
      ],
      "execution_count": null,
      "outputs": []
    },
    {
      "cell_type": "markdown",
      "metadata": {
        "id": "2r934_PYgHa0"
      },
      "source": [
        "## 2. Dimensionality Reduction"
      ]
    },
    {
      "cell_type": "markdown",
      "metadata": {
        "id": "U9j7y-UugHa1"
      },
      "source": [
        "As you already noticed the number of features (genes) is extremely high when compared to the number of objects to cluster (samples). In this context, you should perform dimensionality reduction, that is, reduce the number of features, in two ways:\n",
        "\n",
        "* [**Removing features with low variance**](http://scikit-learn.org/stable/modules/feature_selection.html)\n",
        "\n",
        "* [**Using Principal Component Analysis**](http://scikit-learn.org/stable/modules/generated/sklearn.decomposition.PCA.html)\n",
        "\n",
        "At the end of this step you should have two new matrices with the same number of rows, each with a different number of columns (features): **X_variance** and **X_PCA**. \n",
        "\n",
        "**Don't change X you will need it!**"
      ]
    },
    {
      "cell_type": "code",
      "metadata": {
        "id": "5s_WjLO2gHa3"
      },
      "source": [
        "# Write code in cells like this ..."
      ],
      "execution_count": null,
      "outputs": []
    },
    {
      "cell_type": "markdown",
      "metadata": {
        "id": "PDqnnbEOgHa4"
      },
      "source": [
        "## 3. Clustering Samples using Partitional Clustering"
      ]
    },
    {
      "cell_type": "markdown",
      "metadata": {
        "id": "ntQXlyNAgHa6"
      },
      "source": [
        "Use **`K`-means** to cluster the samples:\n",
        "\n",
        "* Cluster the original data (54.675 features): **X**.\n",
        "    * Use different values of `K`.\n",
        "    * For each value of `K` present the clustering by specifying how many samples MB-CL and Other are in each cluster.     \n",
        "    For instance, `{0: {'MB-CL': 51, 'Other': 0}, 1: {'MB-CL': 0, 'Other': 25}}` is the ideal clustering that we aimed at obtained with K-means when `K=2`, where the first cluster has 51 MB-CL samples and 0 Other samples and the second cluster has 0 MB-CL samples and 25 Other samples.\n",
        "    You can choose how to output this information.  **Tip**: You can explore the usage of contigency matrices.\n",
        "    * What is the best value of `K` ? Justify using the clustering results and the [Silhouette score](http://scikit-learn.org/stable/modules/generated/sklearn.metrics.silhouette_score.html).\n",
        "\n",
        "* Cluster the data obtained after removing features with low variance: **X_variance**.\n",
        "    * Study different values of `K` as above.\n",
        "\n",
        "* Cluster the data obtained after applying PCA: **X_PCA**.\n",
        "    * Study different values of `K` as above.\n",
        "\n",
        "* Compare the results obtained in the three datasets above for the best `K`. \n",
        "* Discuss the results."
      ]
    },
    {
      "cell_type": "code",
      "metadata": {
        "id": "0PWIGNQRgHa7"
      },
      "source": [
        "# Write code in cells like this ..."
      ],
      "execution_count": null,
      "outputs": []
    },
    {
      "cell_type": "markdown",
      "metadata": {
        "id": "KYCzZo4KgHa7"
      },
      "source": [
        "## 4. Clustering Samples using Hierarchical Clustering"
      ]
    },
    {
      "cell_type": "markdown",
      "metadata": {
        "id": "tvW5iQOOgHa8"
      },
      "source": [
        "Use a **Hierarchical Clustering Algorithm (HCA)** to cluster the samples: \n",
        "\n",
        "* Cluster the data in **X_variance**.\n",
        "    * Use **different linkage metrics**.\n",
        "    * Use different values of `K`.\n",
        "    * For each linkage metric and value of `K` present the clustering by specifying how many MB-CL and Other samples are in each cluster as you did before. \n",
        "    * What is the best linkage metric and the best value of `K`? Justify using the clustering results and the [Silhouette score](http://scikit-learn.org/stable/modules/generated/sklearn.metrics.silhouette_score.html).\n",
        "\n",
        "* Cluster the data in **X_PCA**.\n",
        "    * Study different linkage metrics and different values of `K` as above.\n",
        "\n",
        "* Compare the results obtained in the two datasets above for the best linkage metric and the best `K`. \n",
        "* Discuss the results"
      ]
    },
    {
      "cell_type": "code",
      "metadata": {
        "id": "ifqFeSBsgHa8"
      },
      "source": [
        "# Write code in cells like this ..."
      ],
      "execution_count": null,
      "outputs": []
    },
    {
      "cell_type": "markdown",
      "metadata": {
        "id": "Au9REg0QgHa9"
      },
      "source": [
        "## 5. Evaluating Clustering Results"
      ]
    },
    {
      "cell_type": "markdown",
      "metadata": {
        "id": "5X3R6kgOgHa9"
      },
      "source": [
        "In this task you should compare the best results obtained using `K`-means and HCA \n",
        "1. **Without using ground truth**\n",
        "2. **Using ground truth (`Medulloblastoma Type`)**."
      ]
    },
    {
      "cell_type": "markdown",
      "metadata": {
        "id": "gr7OEBL3gHa-"
      },
      "source": [
        "### 5.1. Without Using Ground Truth"
      ]
    },
    {
      "cell_type": "markdown",
      "metadata": {
        "id": "YGRLCEvFgHa-"
      },
      "source": [
        "**Choose one adequate measure** from those available by Sciki-learn (https://scikit-learn.org/stable/modules/clustering.html#clustering-performance-evaluation) to evaluate the different clusterings. \n",
        "\n",
        "Discuss the results."
      ]
    },
    {
      "cell_type": "code",
      "metadata": {
        "id": "uBMuVmN3gHa_"
      },
      "source": [
        "# Write code in cells like this ..."
      ],
      "execution_count": null,
      "outputs": []
    },
    {
      "cell_type": "markdown",
      "metadata": {
        "id": "nzWVDzk0gHa_"
      },
      "source": [
        "### 5.2. Using Ground Truth"
      ]
    },
    {
      "cell_type": "markdown",
      "metadata": {
        "id": "rAdDYzM3gHbA"
      },
      "source": [
        "**Choose one adequate measure** from those available by Sciki-learn (https://scikit-learn.org/stable/modules/clustering.html#clustering-performance-evaluation) to evaluate the different clusterings. \n",
        "\n",
        "Discuss the results."
      ]
    },
    {
      "cell_type": "code",
      "metadata": {
        "id": "GBA-AEiCgHbA"
      },
      "source": [
        "# Write code in cells like this ..."
      ],
      "execution_count": null,
      "outputs": []
    },
    {
      "cell_type": "markdown",
      "metadata": {
        "id": "NEPZbrLJgHbA"
      },
      "source": [
        "## 6. Clustering Samples using Density-based Clustering"
      ]
    },
    {
      "cell_type": "markdown",
      "metadata": {
        "id": "kGKXwic5gHbC"
      },
      "source": [
        "Use DBSCAN (https://scikit-learn.org/stable/modules/generated/sklearn.cluster.DBSCAN.html) or OPTICS (https://scikit-learn.org/stable/modules/generated/sklearn.cluster.OPTICS.html) to cluster the samples.\n",
        "\n",
        "Compare the results with those of K-means and HCA."
      ]
    },
    {
      "cell_type": "code",
      "metadata": {
        "id": "rCAMOg5xgHbC"
      },
      "source": [
        "# Write code in cells like this ..."
      ],
      "execution_count": null,
      "outputs": []
    },
    {
      "cell_type": "markdown",
      "metadata": {
        "id": "lUUxPfKNgHbD"
      },
      "source": [
        "## 7. Choose a Different Clustering Algorithm to Group the Samples\n",
        "\n",
        "Choose **a clustering algorithm** besides `K`-means, HCA and DBSCAN/OPTICS to cluster the samples. \n",
        "\n",
        "**Groups of 3 People** must choose two different algorithms.\n",
        "\n",
        "Justify your choice and compare the results with those of `K`-means, HCA and DBSCAN/OPTICS."
      ]
    },
    {
      "cell_type": "code",
      "metadata": {
        "id": "hw11lO9TgHbD"
      },
      "source": [
        "# Write code in cells like this ..."
      ],
      "execution_count": null,
      "outputs": []
    },
    {
      "cell_type": "markdown",
      "metadata": {
        "id": "H3eMghytgHbE"
      },
      "source": [
        "## 8. Conclusions"
      ]
    },
    {
      "cell_type": "markdown",
      "metadata": {
        "id": "8b-J7U1AgHbE"
      },
      "source": [
        "Draw some conclusions about this project work. Can you highlight some insights about meduloblastoma types? "
      ]
    },
    {
      "cell_type": "code",
      "metadata": {
        "id": "_eFOGLiQgHbE"
      },
      "source": [
        "# Write code in cells like this ..."
      ],
      "execution_count": null,
      "outputs": []
    },
    {
      "cell_type": "markdown",
      "metadata": {
        "id": "TQZbHT_tgHbF"
      },
      "source": [
        "Write text in cells like this..."
      ]
    }
  ]
}