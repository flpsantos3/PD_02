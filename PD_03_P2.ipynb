{
  "nbformat": 4,
  "nbformat_minor": 0,
  "metadata": {
    "kernelspec": {
      "display_name": "Python 3",
      "language": "python",
      "name": "python3"
    },
    "language_info": {
      "codemirror_mode": {
        "name": "ipython",
        "version": 3
      },
      "file_extension": ".py",
      "mimetype": "text/x-python",
      "name": "python",
      "nbconvert_exporter": "python",
      "pygments_lexer": "ipython3",
      "version": "3.8.5"
    },
    "colab": {
      "name": "PD_proj2_test.ipynb",
      "provenance": [],
      "collapsed_sections": [],
      "include_colab_link": true
    }
  },
  "cells": [
    {
      "cell_type": "markdown",
      "metadata": {
        "id": "view-in-github",
        "colab_type": "text"
      },
      "source": [
        "<a href=\"https://colab.research.google.com/github/iamemc/PD_02/blob/flip/PD_03_P2.ipynb\" target=\"_parent\"><img src=\"https://colab.research.google.com/assets/colab-badge.svg\" alt=\"Open In Colab\"/></a>"
      ]
    },
    {
      "cell_type": "markdown",
      "metadata": {
        "id": "bcgwnRfLgHaf"
      },
      "source": [
        "# Data Mining / Prospecção de Dados\n",
        "\n",
        "## Diogo F. Soares and Sara C. Madeira, 2020/21\n",
        "\n",
        "# Project 2 - Clustering"
      ]
    },
    {
      "cell_type": "markdown",
      "metadata": {
        "id": "AjLy5zShgHat"
      },
      "source": [
        "## Logistics \n",
        "\n",
        "**_Read Carefully_**\n",
        "\n",
        "**Students should work in teams of 2 or 3 people**. \n",
        "\n",
        "Individual projects might be allowed (with valid justification), but will not have better grades for this reason. \n",
        "\n",
        "The quality of the project will dictate its grade, not the number of people working.\n",
        "\n",
        "**The project's solution should be uploaded in Moodle before the end of `April, 18th (23:59)`.** \n",
        "\n",
        "Students should **upload a `.zip` file** containing all the files necessary for project evaluation. \n",
        "Groups should be registered in [Moodle](https://moodle.ciencias.ulisboa.pt/mod/groupselect/view.php?id=139096) and the zip file should be identified as `PDnn.zip` where `nn` is the number of your group.\n",
        "\n",
        "**It is mandatory to produce a Jupyter notebook containing code and text/images/tables/etc describing the solution and the results. Projects not delivered in this format will not be graded. You can use `PD_202021_P2.ipynb`as template. In your `.zip` folder you should also include an HTML version of your notebook with all the outputs** (File > Download as > HTML).\n",
        "\n",
        "**Decisions should be justified and results should be critically discussed.** \n",
        "\n",
        "_Project solutions containing only code and outputs without discussions will achieve a maximum grade 10 out of 20._"
      ]
    },
    {
      "cell_type": "markdown",
      "metadata": {
        "id": "gPNMHG2UgHau"
      },
      "source": [
        "## Dataset and Tools\n",
        "\n",
        "In this project you should use [Python 3](https://www.python.org), [Jupyter Notebook](http://jupyter.org) and **[Scikit-learn](http://scikit-learn.org/stable/)**.\n",
        "\n",
        "The dataset to be analysed is **`medulloblastoma_genes.csv`**. It includes 76 samples of medulloblastoma (MB) with respective expression levels of 54.675 genes measured in children with ages between 3 and 16 years. Medulloblastoma is a malignant childhood brain tumour comprising four discrete subgroups. \n",
        "\n",
        "In this project you will consider the labels of the samples included in the `labels.csv` file where samples are labelled as MB-CL or Other. In this case, we have 51 samples of classic medulloblastoma (MB-CL) and 25 other types (namely: 6 desmoplastic nodular, 17 anaplastic and 2 medullomyoblastoma).\n",
        "\n",
        "In `medulloblastoma_genes.csv` each line represents a sample and each column represents a gene.\n",
        "\n",
        "\n",
        "**The goal is to cluster samples and (ideally) find \"MB-CL\" groups and \"Other MB\" groups.** "
      ]
    },
    {
      "cell_type": "markdown",
      "metadata": {
        "id": "-ou1gN7mgHaw"
      },
      "source": [
        "## Team Identification\n",
        "\n",
        "**GROUP NNN**\n",
        "\n",
        "Students:\n",
        "\n",
        "* **Eduardo Carvalho - nº55881**\n",
        "* **Filipe Santos - nº55142**\n",
        "* **Ivo Oliveira - nº50301**"
      ]
    },
    {
      "cell_type": "markdown",
      "metadata": {
        "id": "w5cgX4OKgHax"
      },
      "source": [
        "## 1. Load and Preprocess Dataset"
      ]
    },
    {
      "cell_type": "markdown",
      "metadata": {
        "id": "5Jdu8-3GgHay"
      },
      "source": [
        "At the end of this step you should have:\n",
        "* a 76 rows × 54675 columns matrix, **X**, containing the values of the 54675 features for each of the 76 samples.\n",
        "* a vector, **y**, with the 76 type of medulloblastoma, which you can use later to evaluate clustering quality."
      ]
    },
    {
      "cell_type": "code",
      "metadata": {
        "id": "M_6KhFQ9gHaz"
      },
      "source": [
        "# Importing relevant libraries\n",
        "from pandas import read_csv, DataFrame, Series\n",
        "from sklearn.decomposition import PCA\n",
        "from sklearn.linear_model import LogisticRegression\n",
        "from matplotlib import pyplot as plt\n",
        "import seaborn as sn\n",
        "from sklearn.preprocessing import StandardScaler\n",
        "from sklearn.feature_selection import VarianceThreshold\n",
        "from sklearn.cluster import KMeans\n",
        "from sklearn.metrics import silhouette_score\n",
        "from sklearn.metrics.cluster import contingency_matrix"
      ],
      "execution_count": 66,
      "outputs": []
    },
    {
      "cell_type": "code",
      "metadata": {
        "id": "vYVVMmahJD5K",
        "colab": {
          "base_uri": "https://localhost:8080/"
        },
        "outputId": "339fce9f-3bad-4637-d049-885b5bec527c"
      },
      "source": [
        "X=read_csv('/content/medulloblastoma_genes.csv', index_col=0)\n",
        "X.shape"
      ],
      "execution_count": 5,
      "outputs": [
        {
          "output_type": "execute_result",
          "data": {
            "text/plain": [
              "(76, 54675)"
            ]
          },
          "metadata": {
            "tags": []
          },
          "execution_count": 5
        }
      ]
    },
    {
      "cell_type": "code",
      "metadata": {
        "id": "Ns5Xcwd_KD6k",
        "colab": {
          "base_uri": "https://localhost:8080/"
        },
        "outputId": "aca951e6-5b53-4cc7-e4d7-3105e77685da"
      },
      "source": [
        "y=read_csv('/content/labels.csv', index_col=0)\n",
        "y.shape"
      ],
      "execution_count": 49,
      "outputs": [
        {
          "output_type": "execute_result",
          "data": {
            "text/plain": [
              "(76, 1)"
            ]
          },
          "metadata": {
            "tags": []
          },
          "execution_count": 49
        }
      ]
    },
    {
      "cell_type": "code",
      "metadata": {
        "id": "wYGI4lacqtQD"
      },
      "source": [
        "# X, y = df.iloc[:, 1:].values, df2.iloc[:, 1].values\n",
        "\n",
        "# X_train, X_test, y_train, y_test = train_test_split(X, y, \n",
        "#                      test_size=0.3, \n",
        "#                      random_state=0, \n",
        "#                      stratify=y)"
      ],
      "execution_count": null,
      "outputs": []
    },
    {
      "cell_type": "markdown",
      "metadata": {
        "id": "2r934_PYgHa0"
      },
      "source": [
        "## 2. Dimensionality Reduction"
      ]
    },
    {
      "cell_type": "markdown",
      "metadata": {
        "id": "U9j7y-UugHa1"
      },
      "source": [
        "As you already noticed the number of features (genes) is extremely high when compared to the number of objects to cluster (samples). In this context, you should perform dimensionality reduction, that is, reduce the number of features, in two ways:\n",
        "\n",
        "* [**Removing features with low variance**](http://scikit-learn.org/stable/modules/feature_selection.html)\n",
        "\n",
        "* [**Using Principal Component Analysis**](http://scikit-learn.org/stable/modules/generated/sklearn.decomposition.PCA.html)\n",
        "\n",
        "At the end of this step you should have two new matrices with the same number of rows, each with a different number of columns (features): **X_variance** and **X_PCA**. \n",
        "\n",
        "**Don't change X you will need it!**"
      ]
    },
    {
      "cell_type": "markdown",
      "metadata": {
        "id": "XIK_7eB0zKYc"
      },
      "source": [
        "### Low variance"
      ]
    },
    {
      "cell_type": "code",
      "metadata": {
        "id": "PxwcEcV2zUj8"
      },
      "source": [
        "var_thresh = VarianceThreshold(threshold=0)\n",
        "var_X = var_thresh.fit_transform(X)"
      ],
      "execution_count": 7,
      "outputs": []
    },
    {
      "cell_type": "code",
      "metadata": {
        "colab": {
          "base_uri": "https://localhost:8080/",
          "height": 301
        },
        "id": "xp05zg8T0MQF",
        "outputId": "4cf80528-90ba-4518-9e10-3ead85c51d42"
      },
      "source": [
        "df_var=DataFrame(var_thresh.variances_, columns=['Variance'])\\\n",
        "                .sort_values(by='Variance', ascending=False)\n",
        "df_var.head(30).plot.bar()\n",
        "plt.xlabel('Features')\n",
        "plt.ylabel('Variance');\n",
        "plt.legend('')\n",
        "plt.show()"
      ],
      "execution_count": 18,
      "outputs": [
        {
          "output_type": "display_data",
          "data": {
            "image/png": "[encoded data removed]",
            "text/plain": [
              "<Figure size 432x288 with 1 Axes>"
            ]
          },
          "metadata": {
            "tags": [],
            "needs_background": "light"
          }
        }
      ]
    },
    {
      "cell_type": "markdown",
      "metadata": {
        "id": "j9myuzaQ8OBc"
      },
      "source": [
        "> By looking at the plot, we can identify the first 5 values as a good cutoff, as these features should a considerably higher variance than the rest."
      ]
    },
    {
      "cell_type": "code",
      "metadata": {
        "colab": {
          "base_uri": "https://localhost:8080/",
          "height": 363
        },
        "id": "-waO5bWM8cRa",
        "outputId": "1d20d818-c66c-49d5-a3a7-c2c5c2deab86"
      },
      "source": [
        "df_var.head(10)"
      ],
      "execution_count": 9,
      "outputs": [
        {
          "output_type": "execute_result",
          "data": {
            "text/html": [
              "<div>\n",
              "<style scoped>\n",
              "    .dataframe tbody tr th:only-of-type {\n",
              "        vertical-align: middle;\n",
              "    }\n",
              "\n",
              "    .dataframe tbody tr th {\n",
              "        vertical-align: top;\n",
              "    }\n",
              "\n",
              "    .dataframe thead th {\n",
              "        text-align: right;\n",
              "    }\n",
              "</style>\n",
              "<table border=\"1\" class=\"dataframe\">\n",
              "  <thead>\n",
              "    <tr style=\"text-align: right;\">\n",
              "      <th></th>\n",
              "      <th>Variance</th>\n",
              "    </tr>\n",
              "  </thead>\n",
              "  <tbody>\n",
              "    <tr>\n",
              "      <th>4657</th>\n",
              "      <td>7.595610</td>\n",
              "    </tr>\n",
              "    <tr>\n",
              "      <th>33847</th>\n",
              "      <td>7.466448</td>\n",
              "    </tr>\n",
              "    <tr>\n",
              "      <th>41030</th>\n",
              "      <td>6.239501</td>\n",
              "    </tr>\n",
              "    <tr>\n",
              "      <th>11357</th>\n",
              "      <td>6.046499</td>\n",
              "    </tr>\n",
              "    <tr>\n",
              "      <th>15465</th>\n",
              "      <td>6.008597</td>\n",
              "    </tr>\n",
              "    <tr>\n",
              "      <th>31008</th>\n",
              "      <td>5.602876</td>\n",
              "    </tr>\n",
              "    <tr>\n",
              "      <th>36925</th>\n",
              "      <td>5.170070</td>\n",
              "    </tr>\n",
              "    <tr>\n",
              "      <th>51105</th>\n",
              "      <td>5.065053</td>\n",
              "    </tr>\n",
              "    <tr>\n",
              "      <th>19702</th>\n",
              "      <td>4.564589</td>\n",
              "    </tr>\n",
              "    <tr>\n",
              "      <th>9237</th>\n",
              "      <td>4.551036</td>\n",
              "    </tr>\n",
              "  </tbody>\n",
              "</table>\n",
              "</div>"
            ],
            "text/plain": [
              "       Variance\n",
              "4657   7.595610\n",
              "33847  7.466448\n",
              "41030  6.239501\n",
              "11357  6.046499\n",
              "15465  6.008597\n",
              "31008  5.602876\n",
              "36925  5.170070\n",
              "51105  5.065053\n",
              "19702  4.564589\n",
              "9237   4.551036"
            ]
          },
          "metadata": {
            "tags": []
          },
          "execution_count": 9
        }
      ]
    },
    {
      "cell_type": "markdown",
      "metadata": {
        "id": "-c089JFj8_n3"
      },
      "source": [
        "> The threshold for the variance, to keep the 5 highest values, seems to be 6. We can now create a new VarianceThreshold object with this information."
      ]
    },
    {
      "cell_type": "code",
      "metadata": {
        "colab": {
          "base_uri": "https://localhost:8080/",
          "height": 143
        },
        "id": "4ICyC_8E96iD",
        "outputId": "d6420ebd-fc81-4acd-e43e-dbf3f8288ade"
      },
      "source": [
        "new_vt = VarianceThreshold(threshold=6)\n",
        "new_vt.fit_transform(X)\n",
        "mask=new_vt.get_support()\n",
        "X_variance=X.loc[:, mask]\n",
        "X_variance.head(3)"
      ],
      "execution_count": 10,
      "outputs": [
        {
          "output_type": "execute_result",
          "data": {
            "text/html": [
              "<div>\n",
              "<style scoped>\n",
              "    .dataframe tbody tr th:only-of-type {\n",
              "        vertical-align: middle;\n",
              "    }\n",
              "\n",
              "    .dataframe tbody tr th {\n",
              "        vertical-align: top;\n",
              "    }\n",
              "\n",
              "    .dataframe thead th {\n",
              "        text-align: right;\n",
              "    }\n",
              "</style>\n",
              "<table border=\"1\" class=\"dataframe\">\n",
              "  <thead>\n",
              "    <tr style=\"text-align: right;\">\n",
              "      <th></th>\n",
              "      <th>1559213_at</th>\n",
              "      <th>201909_at</th>\n",
              "      <th>206018_at</th>\n",
              "      <th>224588_at</th>\n",
              "      <th>231776_at</th>\n",
              "    </tr>\n",
              "  </thead>\n",
              "  <tbody>\n",
              "    <tr>\n",
              "      <th>GSM918578</th>\n",
              "      <td>9.81713</td>\n",
              "      <td>9.16842</td>\n",
              "      <td>6.28339</td>\n",
              "      <td>6.72311</td>\n",
              "      <td>10.39320</td>\n",
              "    </tr>\n",
              "    <tr>\n",
              "      <th>GSM918579</th>\n",
              "      <td>9.95981</td>\n",
              "      <td>8.47725</td>\n",
              "      <td>6.09289</td>\n",
              "      <td>3.71113</td>\n",
              "      <td>11.33250</td>\n",
              "    </tr>\n",
              "    <tr>\n",
              "      <th>GSM918580</th>\n",
              "      <td>4.89110</td>\n",
              "      <td>4.91192</td>\n",
              "      <td>3.27714</td>\n",
              "      <td>8.43272</td>\n",
              "      <td>6.44556</td>\n",
              "    </tr>\n",
              "  </tbody>\n",
              "</table>\n",
              "</div>"
            ],
            "text/plain": [
              "           1559213_at  201909_at  206018_at  224588_at  231776_at\n",
              "GSM918578     9.81713    9.16842    6.28339    6.72311   10.39320\n",
              "GSM918579     9.95981    8.47725    6.09289    3.71113   11.33250\n",
              "GSM918580     4.89110    4.91192    3.27714    8.43272    6.44556"
            ]
          },
          "metadata": {
            "tags": []
          },
          "execution_count": 10
        }
      ]
    },
    {
      "cell_type": "markdown",
      "metadata": {
        "id": "GKvnwzrRPUCD"
      },
      "source": [
        "> Variance is influenced by the scale of the values. We can try to standardize the values, by dividing them for each feature's mean, and see if the results are significantly different."
      ]
    },
    {
      "cell_type": "code",
      "metadata": {
        "id": "L4rLqaMpNZry",
        "outputId": "c89d54c0-03b0-4399-acef-0e6037185146",
        "colab": {
          "base_uri": "https://localhost:8080/",
          "height": 301
        }
      },
      "source": [
        "X_means = X / X.mean()\n",
        "var_thresh_2 = VarianceThreshold(threshold=0)\n",
        "var_X_2 = var_thresh_2.fit_transform(X_means)\n",
        "df_var_2=DataFrame(var_thresh_2.variances_, columns=['Variance'])\\\n",
        "                .sort_values(by='Variance', ascending=False)\n",
        "df_var_2.head(30).plot.bar()\n",
        "plt.xlabel('Features')\n",
        "plt.ylabel('Variance');\n",
        "plt.legend('')\n",
        "plt.show()"
      ],
      "execution_count": 27,
      "outputs": [
        {
          "output_type": "display_data",
          "data": {
            "image/png": "[encoded data removed]",
            "text/plain": [
              "<Figure size 432x288 with 1 Axes>"
            ]
          },
          "metadata": {
            "tags": [],
            "needs_background": "light"
          }
        }
      ]
    },
    {
      "cell_type": "markdown",
      "metadata": {
        "id": "90ogF8NMP-mq"
      },
      "source": [
        "> The results appear to be the same. The most obvious cutoff point is 2, with  being the next. So, we can continue with the previous selection. "
      ]
    },
    {
      "cell_type": "markdown",
      "metadata": {
        "id": "h4bGTR1-zH0d"
      },
      "source": [
        "### PCA"
      ]
    },
    {
      "cell_type": "code",
      "metadata": {
        "colab": {
          "base_uri": "https://localhost:8080/"
        },
        "id": "lsmFngC5nMH0",
        "outputId": "8c924083-7e3f-41e8-cd10-30d56032f66c"
      },
      "source": [
        "# Standardizing the features\n",
        "std_X = StandardScaler().fit_transform(X)\n",
        "std_X[:2]"
      ],
      "execution_count": 12,
      "outputs": [
        {
          "output_type": "execute_result",
          "data": {
            "text/plain": [
              "array([[ 0.43813081, -0.75440001,  0.32568064, ...,  2.87953397,\n",
              "         1.42154643,  0.28421232],\n",
              "       [ 0.89052271, -0.61551373,  0.96802109, ..., -0.59352407,\n",
              "         0.82974694,  3.0380959 ]])"
            ]
          },
          "metadata": {
            "tags": []
          },
          "execution_count": 12
        }
      ]
    },
    {
      "cell_type": "code",
      "metadata": {
        "colab": {
          "base_uri": "https://localhost:8080/",
          "height": 163
        },
        "id": "vQacVQQGvrXd",
        "outputId": "b0e33258-3009-4d38-e9b7-d62368c8c203"
      },
      "source": [
        "pca = PCA()\n",
        "df_pca = DataFrame(pca.fit_transform(std_X))\n",
        "df_pca.head(3)"
      ],
      "execution_count": 13,
      "outputs": [
        {
          "output_type": "execute_result",
          "data": {
            "text/html": [
              "<div>\n",
              "<style scoped>\n",
              "    .dataframe tbody tr th:only-of-type {\n",
              "        vertical-align: middle;\n",
              "    }\n",
              "\n",
              "    .dataframe tbody tr th {\n",
              "        vertical-align: top;\n",
              "    }\n",
              "\n",
              "    .dataframe thead th {\n",
              "        text-align: right;\n",
              "    }\n",
              "</style>\n",
              "<table border=\"1\" class=\"dataframe\">\n",
              "  <thead>\n",
              "    <tr style=\"text-align: right;\">\n",
              "      <th></th>\n",
              "      <th>0</th>\n",
              "      <th>1</th>\n",
              "      <th>2</th>\n",
              "      <th>3</th>\n",
              "      <th>4</th>\n",
              "      <th>5</th>\n",
              "      <th>6</th>\n",
              "      <th>7</th>\n",
              "      <th>8</th>\n",
              "      <th>9</th>\n",
              "      <th>10</th>\n",
              "      <th>11</th>\n",
              "      <th>12</th>\n",
              "      <th>13</th>\n",
              "      <th>14</th>\n",
              "      <th>15</th>\n",
              "      <th>16</th>\n",
              "      <th>17</th>\n",
              "      <th>18</th>\n",
              "      <th>19</th>\n",
              "      <th>20</th>\n",
              "      <th>21</th>\n",
              "      <th>22</th>\n",
              "      <th>23</th>\n",
              "      <th>24</th>\n",
              "      <th>25</th>\n",
              "      <th>26</th>\n",
              "      <th>27</th>\n",
              "      <th>28</th>\n",
              "      <th>29</th>\n",
              "      <th>30</th>\n",
              "      <th>31</th>\n",
              "      <th>32</th>\n",
              "      <th>33</th>\n",
              "      <th>34</th>\n",
              "      <th>35</th>\n",
              "      <th>36</th>\n",
              "      <th>37</th>\n",
              "      <th>38</th>\n",
              "      <th>39</th>\n",
              "      <th>40</th>\n",
              "      <th>41</th>\n",
              "      <th>42</th>\n",
              "      <th>43</th>\n",
              "      <th>44</th>\n",
              "      <th>45</th>\n",
              "      <th>46</th>\n",
              "      <th>47</th>\n",
              "      <th>48</th>\n",
              "      <th>49</th>\n",
              "      <th>50</th>\n",
              "      <th>51</th>\n",
              "      <th>52</th>\n",
              "      <th>53</th>\n",
              "      <th>54</th>\n",
              "      <th>55</th>\n",
              "      <th>56</th>\n",
              "      <th>57</th>\n",
              "      <th>58</th>\n",
              "      <th>59</th>\n",
              "      <th>60</th>\n",
              "      <th>61</th>\n",
              "      <th>62</th>\n",
              "      <th>63</th>\n",
              "      <th>64</th>\n",
              "      <th>65</th>\n",
              "      <th>66</th>\n",
              "      <th>67</th>\n",
              "      <th>68</th>\n",
              "      <th>69</th>\n",
              "      <th>70</th>\n",
              "      <th>71</th>\n",
              "      <th>72</th>\n",
              "      <th>73</th>\n",
              "      <th>74</th>\n",
              "      <th>75</th>\n",
              "    </tr>\n",
              "  </thead>\n",
              "  <tbody>\n",
              "    <tr>\n",
              "      <th>0</th>\n",
              "      <td>12.340287</td>\n",
              "      <td>-39.854200</td>\n",
              "      <td>87.506092</td>\n",
              "      <td>-13.945923</td>\n",
              "      <td>69.587501</td>\n",
              "      <td>16.000048</td>\n",
              "      <td>-69.751186</td>\n",
              "      <td>-97.542748</td>\n",
              "      <td>-18.555197</td>\n",
              "      <td>23.202332</td>\n",
              "      <td>38.101135</td>\n",
              "      <td>6.849776</td>\n",
              "      <td>-80.736914</td>\n",
              "      <td>3.615623</td>\n",
              "      <td>-52.215574</td>\n",
              "      <td>-5.427141</td>\n",
              "      <td>-2.616986</td>\n",
              "      <td>-16.314621</td>\n",
              "      <td>-14.317895</td>\n",
              "      <td>-27.948922</td>\n",
              "      <td>12.546979</td>\n",
              "      <td>-43.412513</td>\n",
              "      <td>-29.591780</td>\n",
              "      <td>-6.664107</td>\n",
              "      <td>22.220410</td>\n",
              "      <td>44.528407</td>\n",
              "      <td>-5.382747</td>\n",
              "      <td>62.636074</td>\n",
              "      <td>17.965380</td>\n",
              "      <td>73.957244</td>\n",
              "      <td>-34.257248</td>\n",
              "      <td>20.044997</td>\n",
              "      <td>29.572688</td>\n",
              "      <td>-39.561024</td>\n",
              "      <td>-22.76223</td>\n",
              "      <td>17.263921</td>\n",
              "      <td>6.239143</td>\n",
              "      <td>7.080457</td>\n",
              "      <td>30.696294</td>\n",
              "      <td>-27.246912</td>\n",
              "      <td>-16.765437</td>\n",
              "      <td>21.334005</td>\n",
              "      <td>-15.920084</td>\n",
              "      <td>-3.115480</td>\n",
              "      <td>4.532650</td>\n",
              "      <td>8.864375</td>\n",
              "      <td>-1.119921</td>\n",
              "      <td>-12.042777</td>\n",
              "      <td>-1.815172</td>\n",
              "      <td>-1.710648</td>\n",
              "      <td>5.702976</td>\n",
              "      <td>-8.542566</td>\n",
              "      <td>8.883464</td>\n",
              "      <td>4.606239</td>\n",
              "      <td>-4.798239</td>\n",
              "      <td>-1.770272</td>\n",
              "      <td>7.718174</td>\n",
              "      <td>-2.395592</td>\n",
              "      <td>4.161583</td>\n",
              "      <td>10.065773</td>\n",
              "      <td>1.067186</td>\n",
              "      <td>7.287068</td>\n",
              "      <td>2.267765</td>\n",
              "      <td>0.738914</td>\n",
              "      <td>-0.728984</td>\n",
              "      <td>2.457625</td>\n",
              "      <td>3.645871</td>\n",
              "      <td>6.331097</td>\n",
              "      <td>3.822609</td>\n",
              "      <td>-8.734254</td>\n",
              "      <td>-3.039607</td>\n",
              "      <td>-2.785044</td>\n",
              "      <td>-0.359489</td>\n",
              "      <td>2.726267</td>\n",
              "      <td>4.081747</td>\n",
              "      <td>3.777073e-14</td>\n",
              "    </tr>\n",
              "    <tr>\n",
              "      <th>1</th>\n",
              "      <td>173.847859</td>\n",
              "      <td>10.413431</td>\n",
              "      <td>10.600977</td>\n",
              "      <td>-38.641559</td>\n",
              "      <td>-17.448066</td>\n",
              "      <td>39.665034</td>\n",
              "      <td>-45.909995</td>\n",
              "      <td>23.765517</td>\n",
              "      <td>31.818684</td>\n",
              "      <td>-23.984644</td>\n",
              "      <td>10.409079</td>\n",
              "      <td>3.062235</td>\n",
              "      <td>-14.431139</td>\n",
              "      <td>-7.336351</td>\n",
              "      <td>8.896721</td>\n",
              "      <td>-38.133037</td>\n",
              "      <td>-24.286519</td>\n",
              "      <td>89.972125</td>\n",
              "      <td>55.364609</td>\n",
              "      <td>-62.677230</td>\n",
              "      <td>-25.182659</td>\n",
              "      <td>37.538972</td>\n",
              "      <td>13.691064</td>\n",
              "      <td>106.497689</td>\n",
              "      <td>34.140422</td>\n",
              "      <td>20.068512</td>\n",
              "      <td>-59.221168</td>\n",
              "      <td>-6.284531</td>\n",
              "      <td>-29.575560</td>\n",
              "      <td>8.767018</td>\n",
              "      <td>-16.611558</td>\n",
              "      <td>-17.892528</td>\n",
              "      <td>-25.582799</td>\n",
              "      <td>3.365256</td>\n",
              "      <td>-3.81785</td>\n",
              "      <td>8.824096</td>\n",
              "      <td>-6.344005</td>\n",
              "      <td>-8.371824</td>\n",
              "      <td>17.157103</td>\n",
              "      <td>3.882657</td>\n",
              "      <td>-19.713154</td>\n",
              "      <td>-19.118000</td>\n",
              "      <td>-15.261608</td>\n",
              "      <td>-1.121523</td>\n",
              "      <td>2.642513</td>\n",
              "      <td>0.179401</td>\n",
              "      <td>11.145235</td>\n",
              "      <td>0.380007</td>\n",
              "      <td>-5.079097</td>\n",
              "      <td>14.300394</td>\n",
              "      <td>2.688002</td>\n",
              "      <td>0.064441</td>\n",
              "      <td>-8.066140</td>\n",
              "      <td>-3.610300</td>\n",
              "      <td>-2.756124</td>\n",
              "      <td>-8.738837</td>\n",
              "      <td>8.978711</td>\n",
              "      <td>-0.947571</td>\n",
              "      <td>2.984235</td>\n",
              "      <td>-5.703362</td>\n",
              "      <td>-2.676381</td>\n",
              "      <td>-0.020045</td>\n",
              "      <td>0.924820</td>\n",
              "      <td>-0.563433</td>\n",
              "      <td>-0.510048</td>\n",
              "      <td>7.447425</td>\n",
              "      <td>1.142829</td>\n",
              "      <td>1.780735</td>\n",
              "      <td>3.415738</td>\n",
              "      <td>-0.388306</td>\n",
              "      <td>0.934785</td>\n",
              "      <td>5.139709</td>\n",
              "      <td>-3.364719</td>\n",
              "      <td>4.336945</td>\n",
              "      <td>0.486843</td>\n",
              "      <td>3.777073e-14</td>\n",
              "    </tr>\n",
              "    <tr>\n",
              "      <th>2</th>\n",
              "      <td>126.637826</td>\n",
              "      <td>200.152167</td>\n",
              "      <td>-4.041612</td>\n",
              "      <td>18.350663</td>\n",
              "      <td>38.805693</td>\n",
              "      <td>46.166046</td>\n",
              "      <td>-91.388758</td>\n",
              "      <td>62.506372</td>\n",
              "      <td>5.104203</td>\n",
              "      <td>0.763372</td>\n",
              "      <td>-2.088847</td>\n",
              "      <td>-29.386360</td>\n",
              "      <td>-3.173918</td>\n",
              "      <td>14.506452</td>\n",
              "      <td>-31.188315</td>\n",
              "      <td>-72.332699</td>\n",
              "      <td>-26.115821</td>\n",
              "      <td>-35.829264</td>\n",
              "      <td>69.892602</td>\n",
              "      <td>69.243809</td>\n",
              "      <td>-95.078754</td>\n",
              "      <td>-47.403200</td>\n",
              "      <td>-23.090247</td>\n",
              "      <td>-39.882672</td>\n",
              "      <td>13.941420</td>\n",
              "      <td>0.837892</td>\n",
              "      <td>21.763163</td>\n",
              "      <td>-8.939288</td>\n",
              "      <td>-10.150046</td>\n",
              "      <td>4.255702</td>\n",
              "      <td>16.505935</td>\n",
              "      <td>-4.613358</td>\n",
              "      <td>2.804056</td>\n",
              "      <td>-2.191240</td>\n",
              "      <td>6.19637</td>\n",
              "      <td>1.863909</td>\n",
              "      <td>-22.659582</td>\n",
              "      <td>3.698271</td>\n",
              "      <td>-6.941626</td>\n",
              "      <td>-0.015839</td>\n",
              "      <td>7.946977</td>\n",
              "      <td>9.866795</td>\n",
              "      <td>6.962022</td>\n",
              "      <td>0.793480</td>\n",
              "      <td>7.355684</td>\n",
              "      <td>-3.614569</td>\n",
              "      <td>0.809775</td>\n",
              "      <td>-18.280916</td>\n",
              "      <td>4.933513</td>\n",
              "      <td>-1.552109</td>\n",
              "      <td>1.294216</td>\n",
              "      <td>4.964785</td>\n",
              "      <td>3.980324</td>\n",
              "      <td>4.073673</td>\n",
              "      <td>3.757684</td>\n",
              "      <td>2.358018</td>\n",
              "      <td>3.002453</td>\n",
              "      <td>0.945488</td>\n",
              "      <td>-4.274169</td>\n",
              "      <td>-6.283289</td>\n",
              "      <td>-3.973626</td>\n",
              "      <td>-0.639468</td>\n",
              "      <td>1.372114</td>\n",
              "      <td>-3.485046</td>\n",
              "      <td>-0.410319</td>\n",
              "      <td>3.789142</td>\n",
              "      <td>-0.485412</td>\n",
              "      <td>2.426564</td>\n",
              "      <td>0.709291</td>\n",
              "      <td>1.583861</td>\n",
              "      <td>-3.028894</td>\n",
              "      <td>-2.191085</td>\n",
              "      <td>3.079382</td>\n",
              "      <td>-4.228800</td>\n",
              "      <td>1.708837</td>\n",
              "      <td>3.777073e-14</td>\n",
              "    </tr>\n",
              "  </tbody>\n",
              "</table>\n",
              "</div>"
            ],
            "text/plain": [
              "           0           1          2   ...        73        74            75\n",
              "0   12.340287  -39.854200  87.506092  ...  2.726267  4.081747  3.777073e-14\n",
              "1  173.847859   10.413431  10.600977  ...  4.336945  0.486843  3.777073e-14\n",
              "2  126.637826  200.152167  -4.041612  ... -4.228800  1.708837  3.777073e-14\n",
              "\n",
              "[3 rows x 76 columns]"
            ]
          },
          "metadata": {
            "tags": []
          },
          "execution_count": 13
        }
      ]
    },
    {
      "cell_type": "code",
      "metadata": {
        "colab": {
          "base_uri": "https://localhost:8080/",
          "height": 282
        },
        "id": "aqNhK0h_v_N1",
        "outputId": "4837ae22-ea3c-49b7-fee7-74fc24f4a875"
      },
      "source": [
        "DataFrame(pca.explained_variance_ratio_).head(30).plot.bar()\n",
        "plt.legend('')\n",
        "plt.xlabel('Principal Components')\n",
        "plt.ylabel('Explained Variance');"
      ],
      "execution_count": 14,
      "outputs": [
        {
          "output_type": "display_data",
          "data": {
            "image/png": "[encoded data removed]",
            "text/plain": [
              "<Figure size 432x288 with 1 Axes>"
            ]
          },
          "metadata": {
            "tags": [],
            "needs_background": "light"
          }
        }
      ]
    },
    {
      "cell_type": "markdown",
      "metadata": {
        "id": "OoCEP6shxHoh"
      },
      "source": [
        "> Looking at the top 30 components in terms of explained variance, we can see some considerable drops at 3 points: from the 2nd to the 3rd, from the 3rd to the 4th and from the 6th to the 7th. Afterwards, the drop in explained variance is less noticeable.\n",
        ">\n",
        "> We will choose to keep 3 principal components as this number allows for easier comprehension of the dataset while still keeping a high amount of information."
      ]
    },
    {
      "cell_type": "code",
      "metadata": {
        "colab": {
          "base_uri": "https://localhost:8080/"
        },
        "id": "2-GDoaw7oQoT",
        "outputId": "4889e84d-b373-4241-ee9b-9339f0b72d7b"
      },
      "source": [
        "pca = PCA(n_components=3)\n",
        "pca.fit(std_X)\n",
        "X_PCA = pca.transform(std_X)\n",
        "X_PCA[:3]"
      ],
      "execution_count": 15,
      "outputs": [
        {
          "output_type": "execute_result",
          "data": {
            "text/plain": [
              "array([[ 12.34032247, -39.85445419,  87.50589233],\n",
              "       [173.8478897 ,  10.41349148,  10.60369818],\n",
              "       [126.6378904 , 200.15224495,  -4.04781086]])"
            ]
          },
          "metadata": {
            "tags": []
          },
          "execution_count": 15
        }
      ]
    },
    {
      "cell_type": "markdown",
      "metadata": {
        "id": "PDqnnbEOgHa4"
      },
      "source": [
        "## 3. Clustering Samples using Partitional Clustering"
      ]
    },
    {
      "cell_type": "markdown",
      "metadata": {
        "id": "ntQXlyNAgHa6"
      },
      "source": [
        "Use **`K`-means** to cluster the samples:\n",
        "\n",
        "* Cluster the original data (54.675 features): **X**.\n",
        "    * Use different values of `K`.\n",
        "    * For each value of `K` present the clustering by specifying how many samples MB-CL and Other are in each cluster.     \n",
        "    For instance, `{0: {'MB-CL': 51, 'Other': 0}, 1: {'MB-CL': 0, 'Other': 25}}` is the ideal clustering that we aimed at obtained with K-means when `K=2`, where the first cluster has 51 MB-CL samples and 0 Other samples and the second cluster has 0 MB-CL samples and 25 Other samples.\n",
        "    You can choose how to output this information.  **Tip**: You can explore the usage of contigency matrices.\n",
        "    * What is the best value of `K` ? Justify using the clustering results and the [Silhouette score](http://scikit-learn.org/stable/modules/generated/sklearn.metrics.silhouette_score.html).\n",
        "\n",
        "* Cluster the data obtained after removing features with low variance: **X_variance**.\n",
        "    * Study different values of `K` as above.\n",
        "\n",
        "* Cluster the data obtained after applying PCA: **X_PCA**.\n",
        "    * Study different values of `K` as above.\n",
        "\n",
        "* Compare the results obtained in the three datasets above for the best `K`. \n",
        "* Discuss the results."
      ]
    },
    {
      "cell_type": "markdown",
      "metadata": {
        "id": "hmqQvAJ6R4YU"
      },
      "source": [
        "## K-means - X"
      ]
    },
    {
      "cell_type": "code",
      "metadata": {
        "id": "9zkCYtXGR-uc",
        "outputId": "e8eb187f-13f5-4da6-d285-47c651eae277",
        "colab": {
          "base_uri": "https://localhost:8080/"
        }
      },
      "source": [
        "kmeans = KMeans(n_clusters=2, random_state=0)\n",
        "kmeans = kmeans.fit(std_X) #using standardized data\n",
        "kmeans.cluster_centers_"
      ],
      "execution_count": 104,
      "outputs": [
        {
          "output_type": "execute_result",
          "data": {
            "text/plain": [
              "array([[-0.03457972, -0.24572179, -0.27972979, ...,  0.07987952,\n",
              "        -0.10067716, -0.07679438],\n",
              "       [ 0.0328064 ,  0.23312067,  0.26538467, ..., -0.07578313,\n",
              "         0.09551423,  0.07285621]])"
            ]
          },
          "metadata": {
            "tags": []
          },
          "execution_count": 104
        }
      ]
    },
    {
      "cell_type": "code",
      "metadata": {
        "id": "0PWIGNQRgHa7",
        "colab": {
          "base_uri": "https://localhost:8080/"
        },
        "outputId": "94aa189f-14dd-4afe-98d4-87316728f8d8"
      },
      "source": [
        "kmeans.labels_"
      ],
      "execution_count": 105,
      "outputs": [
        {
          "output_type": "execute_result",
          "data": {
            "text/plain": [
              "array([0, 0, 1, 0, 1, 0, 0, 0, 1, 1, 1, 1, 0, 0, 0, 1, 1, 0, 0, 0, 0, 0,\n",
              "       1, 1, 1, 1, 1, 0, 1, 1, 1, 1, 0, 1, 1, 1, 1, 0, 0, 0, 1, 1, 1, 1,\n",
              "       0, 0, 1, 1, 0, 0, 1, 1, 0, 0, 0, 0, 0, 0, 1, 0, 1, 1, 1, 1, 1, 1,\n",
              "       1, 0, 0, 0, 0, 1, 0, 1, 0, 0], dtype=int32)"
            ]
          },
          "metadata": {
            "tags": []
          },
          "execution_count": 105
        }
      ]
    },
    {
      "cell_type": "code",
      "metadata": {
        "id": "8JSUIhZyUBCB",
        "outputId": "8063f870-faf2-4c9a-b28b-6baee9c3912c",
        "colab": {
          "base_uri": "https://localhost:8080/",
          "height": 237
        }
      },
      "source": [
        "results_df=y.copy()\n",
        "results_df.columns=['true_class']\n",
        "results_df['KM_X']=kmeans.labels_\n",
        "results_df.head()"
      ],
      "execution_count": 108,
      "outputs": [
        {
          "output_type": "execute_result",
          "data": {
            "text/html": [
              "<div>\n",
              "<style scoped>\n",
              "    .dataframe tbody tr th:only-of-type {\n",
              "        vertical-align: middle;\n",
              "    }\n",
              "\n",
              "    .dataframe tbody tr th {\n",
              "        vertical-align: top;\n",
              "    }\n",
              "\n",
              "    .dataframe thead th {\n",
              "        text-align: right;\n",
              "    }\n",
              "</style>\n",
              "<table border=\"1\" class=\"dataframe\">\n",
              "  <thead>\n",
              "    <tr style=\"text-align: right;\">\n",
              "      <th></th>\n",
              "      <th>true_class</th>\n",
              "      <th>KM_X</th>\n",
              "    </tr>\n",
              "    <tr>\n",
              "      <th>samples</th>\n",
              "      <th></th>\n",
              "      <th></th>\n",
              "    </tr>\n",
              "  </thead>\n",
              "  <tbody>\n",
              "    <tr>\n",
              "      <th>GSM918578</th>\n",
              "      <td>MB-CL</td>\n",
              "      <td>0</td>\n",
              "    </tr>\n",
              "    <tr>\n",
              "      <th>GSM918579</th>\n",
              "      <td>MB-CL</td>\n",
              "      <td>0</td>\n",
              "    </tr>\n",
              "    <tr>\n",
              "      <th>GSM918580</th>\n",
              "      <td>MB-CL</td>\n",
              "      <td>1</td>\n",
              "    </tr>\n",
              "    <tr>\n",
              "      <th>GSM918581</th>\n",
              "      <td>MB-CL</td>\n",
              "      <td>0</td>\n",
              "    </tr>\n",
              "    <tr>\n",
              "      <th>GSM918582</th>\n",
              "      <td>Other</td>\n",
              "      <td>1</td>\n",
              "    </tr>\n",
              "  </tbody>\n",
              "</table>\n",
              "</div>"
            ],
            "text/plain": [
              "          true_class  KM_X\n",
              "samples                   \n",
              "GSM918578      MB-CL     0\n",
              "GSM918579      MB-CL     0\n",
              "GSM918580      MB-CL     1\n",
              "GSM918581      MB-CL     0\n",
              "GSM918582      Other     1"
            ]
          },
          "metadata": {
            "tags": []
          },
          "execution_count": 108
        }
      ]
    },
    {
      "cell_type": "code",
      "metadata": {
        "id": "Tuc22sOyYFZK",
        "outputId": "3fa8336f-ca73-4f30-bc16-3a6701841e55",
        "colab": {
          "base_uri": "https://localhost:8080/",
          "height": 289
        }
      },
      "source": [
        "cm_X=contingency_matrix(results_df.true_class, results_df.KM_X)\n",
        "sn.heatmap(cm_X, annot=True, cmap=\"rocket\", cbar=False, \n",
        "           yticklabels=['MB-CL','Other'])\n",
        "plt.show()"
      ],
      "execution_count": 107,
      "outputs": [
        {
          "output_type": "display_data",
          "data": {
            "image/png": "[encoded data removed]",
            "text/plain": [
              "<Figure size 432x288 with 1 Axes>"
            ]
          },
          "metadata": {
            "tags": []
          }
        }
      ]
    },
    {
      "cell_type": "markdown",
      "metadata": {
        "id": "DiF8GhHfeEoS"
      },
      "source": [
        "> In this case we have 30 MB-CL samples in cluster 0 and 21 in cluster 1. We also have 7 \"Other\" samples in cluster 0 and 18 in cluster 1. The samples do not appear to be correctly separated according to the true labels."
      ]
    },
    {
      "cell_type": "markdown",
      "metadata": {
        "id": "dNyfgIm4WEYy"
      },
      "source": [
        "### Determining ideal number of clusters by Elbow Plot"
      ]
    },
    {
      "cell_type": "code",
      "metadata": {
        "id": "AWUKiCdMVQOZ",
        "outputId": "4fd534e7-a705-46cf-cc79-4e99289fbdbf",
        "colab": {
          "base_uri": "https://localhost:8080/",
          "height": 326
        }
      },
      "source": [
        "cost =[]\n",
        "for i in range(1, 21):\n",
        "    KM = KMeans(n_clusters = i, max_iter = 500)\n",
        "    KM.fit(std_X)\n",
        "      \n",
        "    # calculates squared error for the clustered points\n",
        "    cost.append(KM.inertia_)     \n",
        "  \n",
        "# plot the cost against K values\n",
        "plt.plot(range(1, 21), cost, color ='g', linewidth ='3')\n",
        "plt.xlabel(\"Value of K\")\n",
        "plt.ylabel(\"Squared Error (Cost)\")\n",
        "plt.show() "
      ],
      "execution_count": 109,
      "outputs": [
        {
          "output_type": "display_data",
          "data": {
            "image/png": "[encoded data removed]",
            "text/plain": [
              "<Figure size 432x288 with 1 Axes>"
            ]
          },
          "metadata": {
            "tags": []
          }
        }
      ]
    },
    {
      "cell_type": "markdown",
      "metadata": {
        "id": "ZYgxs242WJSK"
      },
      "source": [
        "> Using the method of Elbow Plot does not seem to be very helpful, as there is no discernible cutoff point that we can use"
      ]
    },
    {
      "cell_type": "markdown",
      "metadata": {
        "id": "o7DgtCGkWSKu"
      },
      "source": [
        "### Determining ideal number of clusters by Silhouette Score"
      ]
    },
    {
      "cell_type": "code",
      "metadata": {
        "id": "Q8Vv8wVFWWe5",
        "outputId": "681f3250-483d-4406-ed33-1805249003b2",
        "colab": {
          "base_uri": "https://localhost:8080/",
          "height": 304
        }
      },
      "source": [
        "silhouette_coefficients = []\n",
        "for i in range(2, 11):\n",
        "  kmeans = KMeans(n_clusters=i)\n",
        "  kmeans.fit(std_X)\n",
        "  score = silhouette_score(std_X, kmeans.labels_)\n",
        "  silhouette_coefficients.append(score)\n",
        "\n",
        "plt.style.use(\"fivethirtyeight\")\n",
        "plt.plot(range(2, 11), silhouette_coefficients)\n",
        "plt.xticks(range(2, 11))\n",
        "plt.xlabel(\"Number of Clusters\")\n",
        "plt.ylabel(\"Silhouette Coefficient\")\n",
        "plt.show()"
      ],
      "execution_count": 62,
      "outputs": [
        {
          "output_type": "display_data",
          "data": {
            "image/png": "[encoded data removed]",
            "text/plain": [
              "<Figure size 432x288 with 1 Axes>"
            ]
          },
          "metadata": {
            "tags": []
          }
        }
      ]
    },
    {
      "cell_type": "markdown",
      "metadata": {
        "id": "S5cXc9ofXpI2"
      },
      "source": [
        "> The best number of clusters seems to be 2 as it has the highest value for the silhouette coefficient. In this case, we won't have to run the algorithm again, as we already used k=2 in the previous run."
      ]
    },
    {
      "cell_type": "markdown",
      "metadata": {
        "id": "2hDcqFs1m-Wh"
      },
      "source": [
        "### Running k-means for different values of k"
      ]
    },
    {
      "cell_type": "code",
      "metadata": {
        "id": "PntDb6z-fQT5",
        "outputId": "52a1f005-dea5-45a6-c7fc-72a488c19865",
        "colab": {
          "base_uri": "https://localhost:8080/",
          "height": 1000
        }
      },
      "source": [
        "for i in range(2,11):\n",
        "  print('\\nn_cluster = ' + str(i) + '\\n')\n",
        "  kmeans = KMeans(n_clusters=i, random_state=0)\n",
        "  kmeans = kmeans.fit(std_X)\n",
        "  cm_X=contingency_matrix(y['class'], kmeans.labels_)\n",
        "  sn.heatmap(cm_X, annot=True, cmap=\"rocket\", cbar=False, \n",
        "           yticklabels=['MB-CL','Other'])\n",
        "  plt.show()"
      ],
      "execution_count": 117,
      "outputs": [
        {
          "output_type": "stream",
          "text": [
            "\n",
            "n_cluster = 2\n",
            "\n"
          ],
          "name": "stdout"
        },
        {
          "output_type": "display_data",
          "data": {
            "image/png": "[encoded data removed]",
            "text/plain": [
              "<Figure size 432x288 with 1 Axes>"
            ]
          },
          "metadata": {
            "tags": []
          }
        },
        {
          "output_type": "stream",
          "text": [
            "\n",
            "n_cluster = 3\n",
            "\n"
          ],
          "name": "stdout"
        },
        {
          "output_type": "display_data",
          "data": {
            "image/png": "[encoded data removed]",
            "text/plain": [
              "<Figure size 432x288 with 1 Axes>"
            ]
          },
          "metadata": {
            "tags": []
          }
        },
        {
          "output_type": "stream",
          "text": [
            "\n",
            "n_cluster = 4\n",
            "\n"
          ],
          "name": "stdout"
        },
        {
          "output_type": "display_data",
          "data": {
            "image/png": "[encoded data removed]",
            "text/plain": [
              "<Figure size 432x288 with 1 Axes>"
            ]
          },
          "metadata": {
            "tags": []
          }
        },
        {
          "output_type": "stream",
          "text": [
            "\n",
            "n_cluster = 5\n",
            "\n"
          ],
          "name": "stdout"
        },
        {
          "output_type": "display_data",
          "data": {
            "image/png": "[encoded data removed]",
            "text/plain": [
              "<Figure size 432x288 with 1 Axes>"
            ]
          },
          "metadata": {
            "tags": []
          }
        },
        {
          "output_type": "stream",
          "text": [
            "\n",
            "n_cluster = 6\n",
            "\n"
          ],
          "name": "stdout"
        },
        {
          "output_type": "display_data",
          "data": {
            "image/png": "[encoded data removed]",
            "text/plain": [
              "<Figure size 432x288 with 1 Axes>"
            ]
          },
          "metadata": {
            "tags": []
          }
        },
        {
          "output_type": "stream",
          "text": [
            "\n",
            "n_cluster = 7\n",
            "\n"
          ],
          "name": "stdout"
        },
        {
          "output_type": "display_data",
          "data": {
            "image/png": "[encoded data removed]",
            "text/plain": [
              "<Figure size 432x288 with 1 Axes>"
            ]
          },
          "metadata": {
            "tags": []
          }
        },
        {
          "output_type": "stream",
          "text": [
            "\n",
            "n_cluster = 8\n",
            "\n"
          ],
          "name": "stdout"
        },
        {
          "output_type": "display_data",
          "data": {
            "image/png": "[encoded data removed]",
            "text/plain": [
              "<Figure size 432x288 with 1 Axes>"
            ]
          },
          "metadata": {
            "tags": []
          }
        },
        {
          "output_type": "stream",
          "text": [
            "\n",
            "n_cluster = 9\n",
            "\n"
          ],
          "name": "stdout"
        },
        {
          "output_type": "display_data",
          "data": {
            "image/png": "[encoded data removed]",
            "text/plain": [
              "<Figure size 432x288 with 1 Axes>"
            ]
          },
          "metadata": {
            "tags": []
          }
        },
        {
          "output_type": "stream",
          "text": [
            "\n",
            "n_cluster = 10\n",
            "\n"
          ],
          "name": "stdout"
        },
        {
          "output_type": "display_data",
          "data": {
            "image/png": "[encoded data removed]",
            "text/plain": [
              "<Figure size 432x288 with 1 Axes>"
            ]
          },
          "metadata": {
            "tags": []
          }
        }
      ]
    },
    {
      "cell_type": "markdown",
      "metadata": {
        "id": "fcLndOdUoB5w"
      },
      "source": [
        "> Looking at the contingency matrices for k between 2 and 10, we can see that, for k=4 and k=5, there are clusters where the predominant label is 'MB-CL' (cluster 3 for k=4, cluster 2 for k=5).\n",
        ">\n",
        "> Between these two, k=5 seems to be the case where this distinction is more evident, as the remaining clusters together don't have near as many 'MB-CL' labels as cluster 2 (18 vs 33).\n",
        ">\n",
        "> There isn't a k value where a cluster is predominantly composed of the label 'Other'."
      ]
    },
    {
      "cell_type": "markdown",
      "metadata": {
        "id": "e4OYD6hxpJWd"
      },
      "source": [
        "> Based on the silhouette score and the contingency matrices, we conclude that, for the dataset with all features and standardized values, the ideal number of clusters is 2 - the silhouette score is the highest and there is an acceptable separation between labels."
      ]
    },
    {
      "cell_type": "markdown",
      "metadata": {
        "id": "KYCzZo4KgHa7"
      },
      "source": [
        "## 4. Clustering Samples using Hierarchical Clustering"
      ]
    },
    {
      "cell_type": "markdown",
      "metadata": {
        "id": "tvW5iQOOgHa8"
      },
      "source": [
        "Use a **Hierarchical Clustering Algorithm (HCA)** to cluster the samples: \n",
        "\n",
        "* Cluster the data in **X_variance**.\n",
        "    * Use **different linkage metrics**.\n",
        "    * Use different values of `K`.\n",
        "    * For each linkage metric and value of `K` present the clustering by specifying how many MB-CL and Other samples are in each cluster as you did before. \n",
        "    * What is the best linkage metric and the best value of `K`? Justify using the clustering results and the [Silhouette score](http://scikit-learn.org/stable/modules/generated/sklearn.metrics.silhouette_score.html).\n",
        "\n",
        "* Cluster the data in **X_PCA**.\n",
        "    * Study different linkage metrics and different values of `K` as above.\n",
        "\n",
        "* Compare the results obtained in the two datasets above for the best linkage metric and the best `K`. \n",
        "* Discuss the results"
      ]
    },
    {
      "cell_type": "code",
      "metadata": {
        "id": "ifqFeSBsgHa8"
      },
      "source": [
        "# Write code in cells like this ..."
      ],
      "execution_count": null,
      "outputs": []
    },
    {
      "cell_type": "markdown",
      "metadata": {
        "id": "Au9REg0QgHa9"
      },
      "source": [
        "## 5. Evaluating Clustering Results"
      ]
    },
    {
      "cell_type": "markdown",
      "metadata": {
        "id": "5X3R6kgOgHa9"
      },
      "source": [
        "In this task you should compare the best results obtained using `K`-means and HCA \n",
        "1. **Without using ground truth**\n",
        "2. **Using ground truth (`Medulloblastoma Type`)**."
      ]
    },
    {
      "cell_type": "markdown",
      "metadata": {
        "id": "gr7OEBL3gHa-"
      },
      "source": [
        "### 5.1. Without Using Ground Truth"
      ]
    },
    {
      "cell_type": "markdown",
      "metadata": {
        "id": "YGRLCEvFgHa-"
      },
      "source": [
        "**Choose one adequate measure** from those available by Sciki-learn (https://scikit-learn.org/stable/modules/clustering.html#clustering-performance-evaluation) to evaluate the different clusterings. \n",
        "\n",
        "Discuss the results."
      ]
    },
    {
      "cell_type": "code",
      "metadata": {
        "id": "uBMuVmN3gHa_"
      },
      "source": [
        "# Write code in cells like this ..."
      ],
      "execution_count": null,
      "outputs": []
    },
    {
      "cell_type": "markdown",
      "metadata": {
        "id": "nzWVDzk0gHa_"
      },
      "source": [
        "### 5.2. Using Ground Truth"
      ]
    },
    {
      "cell_type": "markdown",
      "metadata": {
        "id": "rAdDYzM3gHbA"
      },
      "source": [
        "**Choose one adequate measure** from those available by Sciki-learn (https://scikit-learn.org/stable/modules/clustering.html#clustering-performance-evaluation) to evaluate the different clusterings. \n",
        "\n",
        "Discuss the results."
      ]
    },
    {
      "cell_type": "code",
      "metadata": {
        "id": "GBA-AEiCgHbA"
      },
      "source": [
        "# Write code in cells like this ..."
      ],
      "execution_count": null,
      "outputs": []
    },
    {
      "cell_type": "markdown",
      "metadata": {
        "id": "NEPZbrLJgHbA"
      },
      "source": [
        "## 6. Clustering Samples using Density-based Clustering"
      ]
    },
    {
      "cell_type": "markdown",
      "metadata": {
        "id": "kGKXwic5gHbC"
      },
      "source": [
        "Use DBSCAN (https://scikit-learn.org/stable/modules/generated/sklearn.cluster.DBSCAN.html) or OPTICS (https://scikit-learn.org/stable/modules/generated/sklearn.cluster.OPTICS.html) to cluster the samples.\n",
        "\n",
        "Compare the results with those of K-means and HCA."
      ]
    },
    {
      "cell_type": "code",
      "metadata": {
        "id": "rCAMOg5xgHbC"
      },
      "source": [
        "# Write code in cells like this ..."
      ],
      "execution_count": null,
      "outputs": []
    },
    {
      "cell_type": "markdown",
      "metadata": {
        "id": "lUUxPfKNgHbD"
      },
      "source": [
        "## 7. Choose a Different Clustering Algorithm to Group the Samples\n",
        "\n",
        "Choose **a clustering algorithm** besides `K`-means, HCA and DBSCAN/OPTICS to cluster the samples. \n",
        "\n",
        "**Groups of 3 People** must choose two different algorithms.\n",
        "\n",
        "Justify your choice and compare the results with those of `K`-means, HCA and DBSCAN/OPTICS."
      ]
    },
    {
      "cell_type": "code",
      "metadata": {
        "id": "hw11lO9TgHbD"
      },
      "source": [
        "# Write code in cells like this ..."
      ],
      "execution_count": null,
      "outputs": []
    },
    {
      "cell_type": "markdown",
      "metadata": {
        "id": "H3eMghytgHbE"
      },
      "source": [
        "## 8. Conclusions"
      ]
    },
    {
      "cell_type": "markdown",
      "metadata": {
        "id": "8b-J7U1AgHbE"
      },
      "source": [
        "Draw some conclusions about this project work. Can you highlight some insights about meduloblastoma types? "
      ]
    },
    {
      "cell_type": "code",
      "metadata": {
        "id": "_eFOGLiQgHbE"
      },
      "source": [
        "# Write code in cells like this ..."
      ],
      "execution_count": null,
      "outputs": []
    },
    {
      "cell_type": "markdown",
      "metadata": {
        "id": "TQZbHT_tgHbF"
      },
      "source": [
        "Write text in cells like this..."
      ]
    }
  ]
}